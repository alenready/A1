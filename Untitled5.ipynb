{
  "nbformat": 4,
  "nbformat_minor": 0,
  "metadata": {
    "colab": {
      "provenance": [],
      "authorship_tag": "ABX9TyOjyd/y1Ed4KMSyBaFa6aKm",
      "include_colab_link": true
    },
    "kernelspec": {
      "name": "python3",
      "display_name": "Python 3"
    },
    "language_info": {
      "name": "python"
    }
  },
  "cells": [
    {
      "cell_type": "markdown",
      "metadata": {
        "id": "view-in-github",
        "colab_type": "text"
      },
      "source": [
        "<a href=\"https://colab.research.google.com/github/alenready/A1/blob/main/Untitled5.ipynb\" target=\"_parent\"><img src=\"https://colab.research.google.com/assets/colab-badge.svg\" alt=\"Open In Colab\"/></a>"
      ]
    },
    {
      "cell_type": "code",
      "execution_count": null,
      "metadata": {
        "id": "xJEPHD2Bpo8W",
        "colab": {
          "base_uri": "https://localhost:8080/"
        },
        "outputId": "f262d09a-c0b4-44f6-851f-3b061f9c1174"
      },
      "outputs": [
        {
          "output_type": "stream",
          "name": "stdout",
          "text": [
            "Enter the radius of circle :1\n",
            "Area of a circle is: 3.14\n"
          ]
        }
      ],
      "source": [
        "#1. Write a Python program which accepts the radius of a circle from the user and compute the area.\n",
        "\n",
        "r=float(input(\"Enter the radius of circle :\"))\n",
        "area=3.14*r*r\n",
        "\n",
        "print(\"Area of a circle is:\", area)"
      ]
    },
    {
      "cell_type": "code",
      "source": [
        "#Write a Python Program to accept the details of a student like name, roll number and mark and display it ?\n",
        "Name= input(\"Enter the name:\")\n",
        "Roll_No = float(input(\"Enter the roll number :\"))\n",
        "Mark = float(input(\"Enter the mark :\"))\n",
        "#print(f\"Name\\n Roll_No\\n Mark\\n\", Name, Roll_No, Mark)\n",
        "print('\\nName :',Name)\n",
        "print('Roll No:',Roll_No)\n",
        "print('mark:',Mark)"
      ],
      "metadata": {
        "colab": {
          "base_uri": "https://localhost:8080/"
        },
        "id": "nCKwdSS56XXd",
        "outputId": "7f99371e-9119-48e9-c4bb-8eab3dc65b6d"
      },
      "execution_count": null,
      "outputs": [
        {
          "output_type": "stream",
          "name": "stdout",
          "text": [
            "Enter the name:Alen\n",
            "Enter the roll number :1\n",
            "Enter the mark :100\n",
            "\n",
            "Name : Alen\n",
            "Roll No: 1.0\n",
            "mark: 100.0\n"
          ]
        }
      ]
    },
    {
      "cell_type": "code",
      "source": [
        "#Write a Python program to get the largest number from a list. Sample input: 12, 3, 47, 10 ?"
      ],
      "metadata": {
        "id": "3fQx--AH44Ut"
      },
      "execution_count": null,
      "outputs": []
    },
    {
      "cell_type": "code",
      "source": [
        "# Initialize an empty list to store the numbers\n",
        "numbers = []\n",
        "\n",
        "# Get the number of elements in the list\n",
        "n = int(input(\"Enter the number of elements: \"))\n",
        "\n",
        "# Loop through the list and add the numbers to the list\n",
        "for i in range(n):\n",
        "    numbers.append(int(input(\"Enter the number: \")))\n",
        "\n",
        "# Find the largest number in the list\n",
        "largest_number = max(numbers)\n",
        "\n",
        "# Print the largest number\n",
        "print(\"The largest number is:\", largest_number)"
      ],
      "metadata": {
        "colab": {
          "base_uri": "https://localhost:8080/"
        },
        "id": "zxq1Z33hyJ67",
        "outputId": "df30bcfd-0762-475d-9a3a-0d2a20af58c6"
      },
      "execution_count": null,
      "outputs": [
        {
          "output_type": "stream",
          "name": "stdout",
          "text": [
            "Enter the number of elements: 5\n",
            "Enter the number: 1\n",
            "Enter the number: 2\n",
            "Enter the number: 3\n",
            "Enter the number: 4\n",
            "Enter the number: 5\n",
            "The largest number is: 5\n"
          ]
        }
      ]
    },
    {
      "cell_type": "code",
      "source": [
        "#Given a range of first 10 numbers, write a Python program to iterate from start number to the end number and print the sum of the current number and previous number."
      ],
      "metadata": {
        "id": "99tNntYIzfyC"
      },
      "execution_count": null,
      "outputs": []
    },
    {
      "cell_type": "code",
      "source": [
        "l=range(1,11)\n",
        "for i in l:\n",
        "  j=i-1\n",
        "  sum=i+j\n",
        "  print('The sum of current number' ,i, 'and previous number',j, 'is',sum)"
      ],
      "metadata": {
        "id": "rgk_NzDX0XQb",
        "colab": {
          "base_uri": "https://localhost:8080/"
        },
        "outputId": "d55d098c-256d-463b-f1d0-583ecb72b121"
      },
      "execution_count": null,
      "outputs": [
        {
          "output_type": "stream",
          "name": "stdout",
          "text": [
            "The sum of current number 0 and previous number -1 is -1\n",
            "The sum of current number 1 and previous number 0 is 1\n",
            "The sum of current number 2 and previous number 1 is 3\n",
            "The sum of current number 3 and previous number 2 is 5\n",
            "The sum of current number 4 and previous number 3 is 7\n",
            "The sum of current number 5 and previous number 4 is 9\n",
            "The sum of current number 6 and previous number 5 is 11\n",
            "The sum of current number 7 and previous number 6 is 13\n",
            "The sum of current number 8 and previous number 7 is 15\n",
            "The sum of current number 9 and previous number 8 is 17\n",
            "The sum of current number 10 and previous number 9 is 19\n"
          ]
        }
      ]
    },
    {
      "cell_type": "markdown",
      "source": [
        "Write a Python program to print only those numbers which are divisible of 5 ?\n"
      ],
      "metadata": {
        "id": "MFU4TjRTPLNj"
      }
    },
    {
      "cell_type": "code",
      "source": [
        "l=int(input('Enter the limit'))\n",
        "num=[]\n",
        "for i in range (1,l+1):\n",
        "  x=int(input('enter list elements'))\n",
        "  num.append(x)\n",
        "  for j in num:\n",
        "    if j%5==0:print(j)\n",
        "2"
      ],
      "metadata": {
        "colab": {
          "base_uri": "https://localhost:8080/"
        },
        "id": "ak_zngqIPaU_",
        "outputId": "5e5044d8-99bb-43ab-dfe4-2312e137bdbc"
      },
      "execution_count": null,
      "outputs": [
        {
          "output_type": "stream",
          "name": "stdout",
          "text": [
            "Enter the limit10\n",
            "enter list elements1\n",
            "enter list elements50\n",
            "50\n",
            "enter list elements25\n",
            "50\n",
            "25\n",
            "enter list elements8\n",
            "50\n",
            "25\n",
            "enter list elements0\n",
            "50\n",
            "25\n",
            "0\n",
            "enter list elements10\n",
            "50\n",
            "25\n",
            "0\n",
            "10\n",
            "enter list elements1\n",
            "50\n",
            "25\n",
            "0\n",
            "10\n",
            "enter list elements45\n",
            "50\n",
            "25\n",
            "0\n",
            "10\n",
            "45\n",
            "enter list elements100\n",
            "50\n",
            "25\n",
            "0\n",
            "10\n",
            "45\n",
            "100\n",
            "enter list elements10000\n",
            "50\n",
            "25\n",
            "0\n",
            "10\n",
            "45\n",
            "100\n",
            "10000\n"
          ]
        }
      ]
    },
    {
      "cell_type": "markdown",
      "source": [
        "6. Write a Python program to check whether a number is prime or not ?\n"
      ],
      "metadata": {
        "id": "CrsWGUerQZ_I"
      }
    },
    {
      "cell_type": "code",
      "source": [
        "num = int(input('enter no : '))\n",
        "if num > 1:\n",
        "  for i in range(2, num):\n",
        "    if (num % i) == 0:\n",
        "      print(num, \"is not a prime no\")\n",
        "      break\n",
        "  else:\n",
        "    print(num,\"is a prime no\")\n",
        "else:\n",
        "  print('the no is zero')"
      ],
      "metadata": {
        "colab": {
          "base_uri": "https://localhost:8080/"
        },
        "id": "Ox0Ro056Rbio",
        "outputId": "8290d2de-27b3-451b-e1dd-c99aba5a5658"
      },
      "execution_count": null,
      "outputs": [
        {
          "output_type": "stream",
          "name": "stdout",
          "text": [
            "enter no : 5\n",
            "5 is a prime no\n"
          ]
        }
      ]
    },
    {
      "cell_type": "markdown",
      "source": [
        "7. Write a Python program to reverse a list using for loop.?"
      ],
      "metadata": {
        "id": "2FZe27uGSWCL"
      }
    },
    {
      "cell_type": "code",
      "source": [
        "l = []\n",
        "#print('Enter the list',l)\n",
        "n = int(input('Enter the limit'))\n",
        "for i in range(n):\n",
        "  x = int(input('Enter the elements of lst : '))\n",
        "  l.append(x)\n",
        "#for i in l:\n",
        "  l.reverse()\n",
        "  print(l)"
      ],
      "metadata": {
        "colab": {
          "base_uri": "https://localhost:8080/"
        },
        "id": "-C1ZzjIgSmBj",
        "outputId": "2526a549-cb21-4ce0-a228-a132851c4402"
      },
      "execution_count": null,
      "outputs": [
        {
          "output_type": "stream",
          "name": "stdout",
          "text": [
            "Enter the limit3\n",
            "Enter the elements of the lst : 1\n",
            "[1]\n",
            "Enter the elements of the lst : 2\n",
            "[2, 1]\n",
            "Enter the elements of the lst : 3\n",
            "[3, 1, 2]\n"
          ]
        }
      ]
    },
    {
      "cell_type": "markdown",
      "source": [
        "## 8. Write a Python program to print the following pattern ?\n",
        "*\n",
        "**\n",
        "***\n",
        "****"
      ],
      "metadata": {
        "id": "0JD6v2GkykZx"
      }
    },
    {
      "cell_type": "code",
      "source": [
        "# Initialize the number of rows\n",
        "rows = 4\n",
        "\n",
        "# Iterate through the rows\n",
        "for i in range(1, rows + 1):\n",
        "    # Print the asterisks\n",
        "    for j in range(i):\n",
        "        print(\"*\", end=\"\")\n",
        "    # Move to the next line\n",
        "    print(\"\")"
      ],
      "metadata": {
        "colab": {
          "base_uri": "https://localhost:8080/"
        },
        "id": "wit11RC5vmOx",
        "outputId": "5e30911d-1859-4b29-ced6-259efb2f34ab"
      },
      "execution_count": null,
      "outputs": [
        {
          "output_type": "stream",
          "name": "stdout",
          "text": [
            "*\n",
            "**\n",
            "***\n",
            "****\n"
          ]
        }
      ]
    },
    {
      "cell_type": "markdown",
      "source": [
        "9. Write a Python program to find the maximum of three numbers\n",
        "Sample input: 34,12,7\n",
        "Sample output: 34"
      ],
      "metadata": {
        "id": "n8wB8EQ_zg5N"
      }
    },
    {
      "cell_type": "code",
      "source": [
        "def find_max(num1, num2, num3):\n",
        "    if num1 >= num2 and num1 >= num3:\n",
        "        return num1\n",
        "    elif num2 >= num1 and num2 >= num3:\n",
        "        return num2\n",
        "    else:\n",
        "        return num3\n",
        "\n",
        "# Get input from the user\n",
        "num1 = float(input(\"Enter the first number: \"))\n",
        "num2 = float(input(\"Enter the second number: \"))\n",
        "num3 = float(input(\"Enter the third number: \"))\n",
        "\n",
        "# Find the maximum\n",
        "max_value = find_max(num1, num2, num3)\n",
        "\n",
        "# Print the maximum\n",
        "print(\"The maximum of the three numbers is:\", max_value)"
      ],
      "metadata": {
        "colab": {
          "base_uri": "https://localhost:8080/"
        },
        "id": "FFX0R-SS1vXX",
        "outputId": "a8ea0cff-cfba-4cb0-e5c3-9119326737d6"
      },
      "execution_count": null,
      "outputs": [
        {
          "output_type": "stream",
          "name": "stdout",
          "text": [
            "Enter the first number: 1\n",
            "Enter the second number: 2\n",
            "Enter the third number: 3\n",
            "The maximum of the three numbers is: 3.0\n"
          ]
        }
      ]
    },
    {
      "cell_type": "markdown",
      "source": [
        "10. Write a Python program to construct the following pattern, using a nested for loop.\n",
        "\n"
      ],
      "metadata": {
        "id": "VGcOUo2R2hRD"
      }
    },
    {
      "cell_type": "code",
      "source": [
        "\n",
        "*\n",
        "**\n",
        "***\n",
        "****\n",
        "*****\n",
        "****\n",
        "***\n",
        "**\n",
        "*"
      ],
      "metadata": {
        "id": "m45k_EWp2w_j"
      },
      "execution_count": null,
      "outputs": []
    },
    {
      "cell_type": "code",
      "source": [
        "# Initialize the number of rows\n",
        "rows = 5\n",
        "\n",
        "# Iterate through the rows\n",
        "for i in range(1, rows + 1):\n",
        "    # Print the asterisks\n",
        "    for j in range(i):\n",
        "        print(\"*\", end=\"\")\n",
        "    # Move to the next line\n",
        "    print(\"\")\n",
        "\n",
        "# Iterate through the rows in reverse order\n",
        "for i in range(rows - 1, 0, -1):\n",
        "    # Print the asterisks\n",
        "    for j in range(i):\n",
        "        print(\"*\", end=\"\")\n",
        "    # Move to the next line\n",
        "    print(\"\")"
      ],
      "metadata": {
        "colab": {
          "base_uri": "https://localhost:8080/"
        },
        "id": "6LlUeaNE3Ih4",
        "outputId": "1037d7f5-9c70-4d97-f9a4-48ee61aeab51"
      },
      "execution_count": null,
      "outputs": [
        {
          "output_type": "stream",
          "name": "stdout",
          "text": [
            "*\n",
            "**\n",
            "***\n",
            "****\n",
            "*****\n",
            "****\n",
            "***\n",
            "**\n",
            "*\n"
          ]
        }
      ]
    }
  ]
}