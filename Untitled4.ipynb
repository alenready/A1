{
  "nbformat": 4,
  "nbformat_minor": 0,
  "metadata": {
    "colab": {
      "provenance": [],
      "authorship_tag": "ABX9TyN2WLh8p1v2qGbtF9LifDqc",
      "include_colab_link": true
    },
    "kernelspec": {
      "name": "python3",
      "display_name": "Python 3"
    },
    "language_info": {
      "name": "python"
    }
  },
  "cells": [
    {
      "cell_type": "markdown",
      "metadata": {
        "id": "view-in-github",
        "colab_type": "text"
      },
      "source": [
        "<a href=\"https://colab.research.google.com/github/alenready/A1/blob/main/Untitled4.ipynb\" target=\"_parent\"><img src=\"https://colab.research.google.com/assets/colab-badge.svg\" alt=\"Open In Colab\"/></a>"
      ]
    },
    {
      "cell_type": "markdown",
      "source": [
        "**PRACTICE EXERCISES ON PYTHON BASICS -2**\n",
        "\n",
        "\n",
        "1. Write a Python program to accept a string value from the user and display the count of each character in that string."
      ],
      "metadata": {
        "id": "jKSaGqNz4hbb"
      }
    },
    {
      "cell_type": "code",
      "source": [
        "\n",
        "string = input(\"Enter a string value: \")\n",
        "char_counts = {}\n",
        "for char in string:\n",
        "    if char in char_counts:\n",
        "        char_counts[char] += 1\n",
        "    else:\n",
        "        char_counts[char] = 1\n",
        "\n",
        "for char, count in char_counts.items():\n",
        "    print(f\"{char}={count}\")\n"
      ],
      "metadata": {
        "colab": {
          "base_uri": "https://localhost:8080/"
        },
        "id": "NEaIlWPs4rje",
        "outputId": "2001e6b0-45e5-42c3-b37a-49ad75e0e07f"
      },
      "execution_count": null,
      "outputs": [
        {
          "output_type": "stream",
          "name": "stdout",
          "text": [
            "Enter a string value: Alen\n",
            "A=1\n",
            "l=1\n",
            "e=1\n",
            "n=1\n"
          ]
        }
      ]
    },
    {
      "cell_type": "markdown",
      "source": [
        "2. Write a Python function to find the maximum of three numbers Sample input: ?"
      ],
      "metadata": {
        "id": "WNAuDrHN7O8f"
      }
    },
    {
      "cell_type": "markdown",
      "source": [
        "3. Write a Python function called exponent(base,exp) that returns an integer value of base raises to the power of exp ?"
      ],
      "metadata": {
        "id": "CPFwJ2gGfFZD"
      }
    },
    {
      "cell_type": "code",
      "source": [
        "num1= int(input(\"Enter the first number: \"))\n",
        "num2= int(input(\"Enter the second number: \"))\n",
        "num3= int(input(\"Enter the third number: \"))\n",
        "if num1>num2 and num1>num3:\n",
        "  print(f\"{num1} is the largest number\")\n",
        "elif num2>num1 and num2>num3:\n",
        "    print(f\"{num2} is the largest number\")\n",
        "else:\n",
        "    print(f\"{num3} is the largest number\")\n",
        "    print(f\"{num3} is the largest number\")"
      ],
      "metadata": {
        "colab": {
          "base_uri": "https://localhost:8080/"
        },
        "id": "t8ukxYYTm5Ny",
        "outputId": "04a91d93-2336-44f7-e945-740947db7351"
      },
      "execution_count": 10,
      "outputs": [
        {
          "output_type": "stream",
          "name": "stdout",
          "text": [
            "Enter the first number: 10\n",
            "Enter the second number: 100\n",
            "Enter the third number: 1000\n",
            "1000 is the largest number\n",
            "1000 is the largest number\n"
          ]
        }
      ]
    },
    {
      "cell_type": "markdown",
      "source": [
        "3. Write a Python function called exponent(base,exp) that returns an integer value of base raises to the power of exp. Sample input: Enter the base: 2 Enter the exponent: 3 Sample output: 8"
      ],
      "metadata": {
        "id": "4ZwpRAJTnU0J"
      }
    },
    {
      "cell_type": "code",
      "source": [
        "# prompt: 3. Write a Python function called exponent(base,exp)\n",
        "def exponent(base,exp):\n",
        "  if(exp==0):\n",
        "    return 1\n",
        "  if(exp<0):\n",
        "    exp = -exp\n",
        "    base = 1/base\n",
        "  return base*exponent(base,exp-1)\n",
        "\n",
        "base = int(input(\"Enter the base: \"))\n",
        "exp = int(input(\"Enter the exponent: \"))\n",
        "\n",
        "print(f\"{base} raised to the power of {exp} is {exponent(base,exp)}\")\n"
      ],
      "metadata": {
        "colab": {
          "base_uri": "https://localhost:8080/"
        },
        "id": "CUXdLAEAfP2O",
        "outputId": "b682b8ce-f9e1-4be7-8d9b-1d0e0997a0a7"
      },
      "execution_count": null,
      "outputs": [
        {
          "output_type": "stream",
          "name": "stdout",
          "text": [
            "Enter the base: 10\n",
            "Enter the exponent: 3\n",
            "10 raised to the power of 3 is 1000\n"
          ]
        }
      ]
    },
    {
      "cell_type": "markdown",
      "source": [
        "4. Write a Python function that takes a positive integer and returns the sum of the cube of all the positive integers smaller than the specified number ?"
      ],
      "metadata": {
        "id": "83AQ1rvFhKNo"
      }
    },
    {
      "cell_type": "code",
      "source": [
        "\n",
        "def sum_of_cubes(n):\n",
        "  sum = 0\n",
        "  for i in range(1, n):\n",
        "    sum += i**3\n",
        "  return sum\n",
        "\n",
        "n = int(input(\"Enter a positive integer: \"))\n",
        "\n",
        "print(f\"The sum of cubes of positive integers smaller than {n} is {sum_of_cubes(n)}\")\n"
      ],
      "metadata": {
        "colab": {
          "base_uri": "https://localhost:8080/"
        },
        "id": "SuL1wbtNhTvc",
        "outputId": "99865edb-b275-4f88-9f44-248cce85631a"
      },
      "execution_count": null,
      "outputs": [
        {
          "output_type": "stream",
          "name": "stdout",
          "text": [
            "Enter a positive integer: 4\n",
            "The sum of cubes of positive integers smaller than 4 is 36\n"
          ]
        }
      ]
    },
    {
      "cell_type": "markdown",
      "source": [
        "5. Write a Python program which iterates from 1 to 10. For multiples of 2, print “Fizz” instead of the number and for the multiples of 5, print “Buzz”. For numbers which are multiples of both 2 and 5, print “FizzBuzz”."
      ],
      "metadata": {
        "id": "OrAszqdPiics"
      }
    },
    {
      "cell_type": "code",
      "source": [
        "for i in range(1, 11):\n",
        "  if i % 2 == 0 and i % 5 == 0:\n",
        "    print(\"FizzBuzz\")\n",
        "  elif i % 2 == 0:\n",
        "    print(\"Fizz\")\n",
        "  elif i % 5 == 0:\n",
        "    print(\"Buzz\")\n",
        "  else:\n",
        "    print(i)\n"
      ],
      "metadata": {
        "colab": {
          "base_uri": "https://localhost:8080/"
        },
        "id": "j6N61-tujpGy",
        "outputId": "937b5dfd-233c-4697-d065-d23ab37e75d6"
      },
      "execution_count": null,
      "outputs": [
        {
          "output_type": "stream",
          "name": "stdout",
          "text": [
            "1\n",
            "Fizz\n",
            "3\n",
            "Fizz\n",
            "Buzz\n",
            "Fizz\n",
            "7\n",
            "Fizz\n",
            "9\n",
            "FizzBuzz\n"
          ]
        }
      ]
    },
    {
      "cell_type": "markdown",
      "source": [
        "6. Write a Python program to find the most frequent item in a list of numbers.?"
      ],
      "metadata": {
        "id": "S-ujC2SimKvP"
      }
    },
    {
      "cell_type": "code",
      "source": [
        "def most_frequent(numbers):\n",
        "\n",
        "  # Create a dictionary to store the counts of each item.\n",
        "  counts = {}\n",
        "\n",
        "  # Iterate through the list and count the occurrences of each item.\n",
        "  for num in numbers:\n",
        "    if num in counts:\n",
        "      counts[num] += 1\n",
        "    else:\n",
        "      counts[num] = 1\n",
        "\n",
        "  # Find the item with the highest count.\n",
        "  most_frequent_item = None\n",
        "  max_count = 0\n",
        "  for num, count in counts.items():\n",
        "    if count > max_count:\n",
        "      most_frequent_item = num\n",
        "      max_count = count\n",
        "\n",
        "  # Return the most frequent item.\n",
        "  return most_frequent_item\n",
        "\n",
        "# Get a list of numbers from the user.\n",
        "numbers = list(map(int, input(\"Enter a list of numbers separated by spaces: \").split()))\n",
        "\n",
        "# Find the most frequent item in the list.\n",
        "most_frequent_item = most_frequent(numbers)\n",
        "\n",
        "# Print the most frequent item.\n",
        "print(f\"The most frequent item in the list is {most_frequent_item}\")\n"
      ],
      "metadata": {
        "colab": {
          "base_uri": "https://localhost:8080/"
        },
        "id": "c-tQuglZnhLO",
        "outputId": "6b1d540c-8693-4e4f-fd11-98c94fa3a9c4"
      },
      "execution_count": null,
      "outputs": [
        {
          "output_type": "stream",
          "name": "stdout",
          "text": [
            "Enter a list of numbers separated by spaces: 1 4 5 5 1 1 1 1 \n",
            "The most frequent item in the list is 1\n"
          ]
        }
      ]
    },
    {
      "cell_type": "markdown",
      "source": [
        "7. Write a Python program to find the sum of squares of the numbers in a list. Sample input: 2,1,3,1 Sample output: 15 ?"
      ],
      "metadata": {
        "id": "cYuF9QYnn6fo"
      }
    },
    {
      "cell_type": "code",
      "source": [
        "def sum_of_squares(numbers):\n",
        "    sum_of_squares = 0\n",
        "    for number in numbers:\n",
        "        sum_of_squares += number ** 2\n",
        "    return sum_of_squares\n",
        "\n",
        "# Get a list of numbers from the user.\n",
        "numbers = list(map(int, input(\"Enter a list of numbers separated by spaces: \").split()))\n",
        "\n",
        "# Calculate the sum of squares of the elements in the list.\n",
        "sum_of_squares = sum_of_squares(numbers)\n",
        "\n",
        "# Print the sum of squares.\n",
        "print(f\"The sum of squares of the elements in the list is {sum_of_squares}\")\n"
      ],
      "metadata": {
        "colab": {
          "base_uri": "https://localhost:8080/"
        },
        "id": "SiEytPlwo-yK",
        "outputId": "01e20645-983b-45d6-dcd6-e9a2ee6085d3"
      },
      "execution_count": null,
      "outputs": [
        {
          "output_type": "stream",
          "name": "stdout",
          "text": [
            "Enter a list of numbers separated by spaces: 1 2 3\n",
            "The sum of squares of the elements in the list is 14\n"
          ]
        }
      ]
    },
    {
      "cell_type": "markdown",
      "source": [
        "8.  Write a Python program using for loop that will iterate from 1 to 15. For each iteration, check if the current number is odd or even, and display the message to the screen as odd or even. Sample input: 1….15 Sample output: 1-odd 2-even …. 15-odd"
      ],
      "metadata": {
        "id": "Ke6l0sOupQzI"
      }
    },
    {
      "cell_type": "code",
      "source": [
        "\n",
        "for i in range(1, 16):\n",
        "  if i % 2 == 0:\n",
        "    print(f\"{i}-even\")\n",
        "  else:\n",
        "    print(f\"{i}-odd\")\n"
      ],
      "metadata": {
        "colab": {
          "base_uri": "https://localhost:8080/"
        },
        "id": "yu831YxWpUbQ",
        "outputId": "a1f83812-837c-49b1-e064-d68a086d6ea4"
      },
      "execution_count": null,
      "outputs": [
        {
          "output_type": "stream",
          "name": "stdout",
          "text": [
            "1-odd\n",
            "2-even\n",
            "3-odd\n",
            "4-even\n",
            "5-odd\n",
            "6-even\n",
            "7-odd\n",
            "8-even\n",
            "9-odd\n",
            "10-even\n",
            "11-odd\n",
            "12-even\n",
            "13-odd\n",
            "14-even\n",
            "15-odd\n"
          ]
        }
      ]
    },
    {
      "cell_type": "markdown",
      "source": [
        "9. Write a Python program to convert temperatures to and from Celsius Fahrenheit. [Formula: c/5=f-32/9 where c=temperature in Celsius and f= temperature in Fahrenheit.] Sample input: Temperature in Fahrenheit =41 Sample output: Temperature in Celsius =5"
      ],
      "metadata": {
        "id": "vIoB_j-3p4Hs"
      }
    },
    {
      "cell_type": "code",
      "source": [
        "\n",
        "def convert_temperature(temperature, unit):\n",
        "\n",
        "  if unit == \"Celsius\":\n",
        "    converted_temperature = (temperature * 9 / 5) + 32\n",
        "    unit = \"Fahrenheit\"\n",
        "  elif unit == \"Fahrenheit\":\n",
        "    converted_temperature = (temperature - 32) * 5 / 9\n",
        "    unit = \"Celsius\"\n",
        "  else:\n",
        "    raise ValueError(\"Invalid unit. Please specify 'Celsius' or 'Fahrenheit'.\")\n",
        "\n",
        "  return converted_temperature, unit\n",
        "\n",
        "# Get the temperature value and unit from the user.\n",
        "temperature = float(input(\"Enter the temperature value: \"))\n",
        "unit = input(\"Enter the unit of the temperature value (Celsius or Fahrenheit): \").capitalize()\n",
        "\n",
        "# Convert the temperature to the other unit.\n",
        "converted_temperature, converted_unit = convert_temperature(temperature, unit)\n",
        "\n",
        "# Print the converted temperature.\n",
        "print(f\"The temperature in {converted_unit} is {converted_temperature}\")\n"
      ],
      "metadata": {
        "colab": {
          "base_uri": "https://localhost:8080/"
        },
        "id": "VbN2IBtAp6-i",
        "outputId": "c963f3ce-9bd2-4677-f402-a6a2cfb955ba"
      },
      "execution_count": null,
      "outputs": [
        {
          "output_type": "stream",
          "name": "stdout",
          "text": [
            "Enter the temperature value: 41\n",
            "Enter the unit of the temperature value (Celsius or Fahrenheit): Fahrenheit\n",
            "The temperature in Celsius is 5.0\n"
          ]
        }
      ]
    },
    {
      "cell_type": "markdown",
      "source": [
        "10. Write a Python function to calculate the factorial of a number (a nonnegative integer). The function accepts the number as an argument. Sample input: 3 Sample output: 6"
      ],
      "metadata": {
        "id": "AabuUoIeqjJl"
      }
    },
    {
      "cell_type": "code",
      "source": [
        "\n",
        "def factorial(n):\n",
        "  if n == 0:\n",
        "    return 1\n",
        "  else:\n",
        "    return n * factorial(n-1)\n",
        "\n",
        "n = int(input(\"Enter a nonnegative integer: \"))\n",
        "\n",
        "print(f\"The factorial of {n} is {factorial(n)}\")\n"
      ],
      "metadata": {
        "colab": {
          "base_uri": "https://localhost:8080/"
        },
        "id": "sLN4lJ6sqlWr",
        "outputId": "435e754d-fa70-4792-b64c-8b5488f4aba9"
      },
      "execution_count": null,
      "outputs": [
        {
          "output_type": "stream",
          "name": "stdout",
          "text": [
            "Enter a nonnegative integer: 3\n",
            "The factorial of 3 is 6\n"
          ]
        }
      ]
    }
  ]
}